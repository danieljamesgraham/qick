{
 "cells": [
  {
   "cell_type": "markdown",
   "metadata": {},
   "source": [
    "# THIS DOES NOT WORK"
   ]
  },
  {
   "cell_type": "code",
   "execution_count": 2,
   "metadata": {},
   "outputs": [],
   "source": [
    "%load_ext autoreload\n",
    "%autoreload 2"
   ]
  },
  {
   "cell_type": "code",
   "execution_count": 3,
   "metadata": {},
   "outputs": [
    {
     "name": "stdout",
     "output_type": "stream",
     "text": [
      "%pylab is deprecated, use %matplotlib inline and import the required libraries.\n",
      "Populating the interactive namespace from numpy and matplotlib\n",
      "\n",
      "QICK configuration:\n",
      "\n",
      "\tBoard: RFSoC4x2\n",
      "\n",
      "\tSoftware version: 0.2.267\n",
      "\tFirmware timestamp: Wed Sep  6 18:49:29 2023\n",
      "\n",
      "\tGlobal clocks (MHz): tProcessor 409.600, RF reference 491.520\n",
      "\n",
      "\t2 signal generator channels:\n",
      "\t0:\taxis_signal_gen_v6 - envelope memory 65536 samples (6.667 us)\n",
      "\t\tfs=9830.400 MHz, fabric=614.400 MHz, 32-bit DDS, range=9830.400 MHz\n",
      "\t\tDAC tile 0, blk 0 is DAC_B\n",
      "\t1:\taxis_signal_gen_v6 - envelope memory 65536 samples (6.667 us)\n",
      "\t\tfs=9830.400 MHz, fabric=614.400 MHz, 32-bit DDS, range=9830.400 MHz\n",
      "\t\tDAC tile 2, blk 0 is DAC_A\n",
      "\n",
      "\t2 readout channels:\n",
      "\t0:\taxis_readout_v2 - configured by PYNQ\n",
      "\t\tfs=4423.680 MHz, decimated=552.960 MHz, 32-bit DDS, range=4423.680 MHz\n",
      "\t\tmaxlen 16384 accumulated, 1024 decimated (1.852 us)\n",
      "\t\ttriggered by output 7, pin 14, feedback to tProc input 0\n",
      "\t\tADC tile 0, blk 0 is ADC_D\n",
      "\t1:\taxis_readout_v2 - configured by PYNQ\n",
      "\t\tfs=4423.680 MHz, decimated=552.960 MHz, 32-bit DDS, range=4423.680 MHz\n",
      "\t\tmaxlen 16384 accumulated, 1024 decimated (1.852 us)\n",
      "\t\ttriggered by output 7, pin 15, feedback to tProc input 1\n",
      "\t\tADC tile 0, blk 1 is ADC_C\n",
      "\n",
      "\t8 digital output pins:\n",
      "\t0:\tPMOD0_0\n",
      "\t1:\tPMOD0_1\n",
      "\t2:\tPMOD0_2\n",
      "\t3:\tPMOD0_3\n",
      "\t4:\tPMOD0_4\n",
      "\t5:\tPMOD0_5\n",
      "\t6:\tPMOD0_6\n",
      "\t7:\tPMOD0_7\n",
      "\n",
      "\ttProc axis_tproc64x32_x8 (\"v1\") rev 4: program memory 1024 words, data memory 1024 words\n",
      "\t\texternal start pin: PMOD1_0\n",
      "\n",
      "\tDDR4 memory buffer: 1073741824 samples (1.942 sec), 256 samples/transfer\n",
      "\t\twired to readouts [0, 1]\n",
      "\n",
      "\tMR buffer: 8192 samples (1.852 us), wired to readouts [0, 1]\n"
     ]
    }
   ],
   "source": [
    "# Import libraries\n",
    "from qick import *\n",
    "from qick import asm_v2\n",
    "from pickle_parser import *\n",
    "import Pyro4\n",
    "%pylab inline\n",
    "\n",
    "# Pyro communicates with board\n",
    "Pyro4.config.SERIALIZER = \"pickle\"\n",
    "Pyro4.config.PICKLE_PROTOCOL_VERSION=4\n",
    "\n",
    "# Static IP proxy\n",
    "ns_host = \"192.168.2.99\"\n",
    "ns_port = 8888\n",
    "proxy_name = \"myqick\"\n",
    "\n",
    "# QICK object\n",
    "ns = Pyro4.locateNS(host=ns_host, port=ns_port)\n",
    "soc = Pyro4.Proxy(ns.lookup(proxy_name))\n",
    "soccfg = QickConfig(soc.get_cfg())\n",
    "print(soccfg)"
   ]
  },
  {
   "cell_type": "code",
   "execution_count": 778,
   "metadata": {},
   "outputs": [
    {
     "name": "stdout",
     "output_type": "stream",
     "text": [
      "\n",
      "// Program\n",
      "\n",
      "             regwi 1, $22, 43690667;            //freq = 43690667\n",
      "             regwi 1, $23, 0;                   //phase = 0\n",
      "             regwi 1, $25, 10000;               //gain = 10000\n",
      "             regwi 1, $26, 590324;              //phrst| stdysel | mode | | outsel = 0b01001 | length = 500 \n",
      "             regwi 0, $22, 43690667;            //freq = 43690667\n",
      "             regwi 0, $23, 0;                   //phase = 0\n",
      "             regwi 0, $25, 10000;               //gain = 10000\n",
      "             regwi 0, $26, 590324;              //phrst| stdysel | mode | | outsel = 0b01001 | length = 500 \n",
      "             regwi 1, $27, 0;                   //t = 0\n",
      "             set 1, 1, $22, $23, $0, $25, $26, $27;//ch = 1, pulse @t = $27\n",
      "             regwi 0, $27, 0;                   //t = 0\n",
      "             set 0, 0, $22, $23, $0, $25, $26, $27;//ch = 0, pulse @t = $27\n",
      "             regwi 0, $16, 32768;               //out = 0b1000000000000000\n",
      "             seti 7, 0, $16, 0;                 //ch =0 out = $16 @t = 0\n",
      "             seti 7, 0, $0, 10;                 //ch =0 out = 0 @t = 0\n",
      "             waiti 0, 1000;\n",
      "             read 1, 0, lower $3;\n",
      "             regwi 0, $2, 1;\n",
      "             condj 0, $2, >, $3, @after_reset;\n",
      "             regwi 0, $16, 1;                   //out = 0b0000000000000001\n",
      "             seti 7, 0, $16, 0;                 //ch =0 out = $16 @t = 0\n",
      "             seti 7, 0, $0, 10;                 //ch =0 out = 0 @t = 0\n",
      "after_reset: waiti 0, 74;\n",
      "             end ;\n"
     ]
    }
   ],
   "source": [
    "prog = QickProgram(soccfg) # Create program object\n",
    "\n",
    "prog.declare_gen(ch=1, nqz=1)\n",
    "prog.declare_gen(ch=1, nqz=1)\n",
    "prog.set_pulse_registers(ch=1, gain=10000, freq=prog.freq2reg(100), phase=0, style=\"const\", length=500)\n",
    "prog.set_pulse_registers(ch=0, gain=10000, freq=prog.freq2reg(100), phase=0, style=\"const\", length=500)\n",
    "prog.declare_readout(ch=1,length=100,freq=100,gen_ch=1)\n",
    "prog.pulse(ch=1, t=0)\n",
    "prog.pulse(ch=0, t=0)\n",
    "prog.trigger(adcs=[1], adc_trig_offset=0)\n",
    "prog.waiti(0,1000)\n",
    "\n",
    "prog.read(1,0,\"lower\",3)\n",
    "prog.regwi(0,2,1)\n",
    "prog.condj(0,2,'>',3,'after_reset')\n",
    "prog.trigger(pins=[0], t=0, width=10)\n",
    "\n",
    "prog.label('after_reset')\n",
    "prog.wait_all()\n",
    "prog.end()\n",
    "\n",
    "prog.config_all(soc) # Load assembly to board\n",
    "soc.tproc.start() # Run program\n",
    "print(prog)"
   ]
  }
 ],
 "metadata": {
  "kernelspec": {
   "display_name": ".qick_venv",
   "language": "python",
   "name": "python3"
  },
  "language_info": {
   "codemirror_mode": {
    "name": "ipython",
    "version": 3
   },
   "file_extension": ".py",
   "mimetype": "text/x-python",
   "name": "python",
   "nbconvert_exporter": "python",
   "pygments_lexer": "ipython3",
   "version": "3.9.6"
  }
 },
 "nbformat": 4,
 "nbformat_minor": 2
}
