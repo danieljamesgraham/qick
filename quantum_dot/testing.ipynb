{
 "cells": [
  {
   "cell_type": "code",
   "execution_count": 550,
   "metadata": {},
   "outputs": [
    {
     "name": "stdout",
     "output_type": "stream",
     "text": [
      "%pylab is deprecated, use %matplotlib inline and import the required libraries.\n",
      "Populating the interactive namespace from numpy and matplotlib\n"
     ]
    },
    {
     "name": "stderr",
     "output_type": "stream",
     "text": [
      "/Users/Daniel/qick/.qick_venv/lib/python3.9/site-packages/IPython/core/magics/pylab.py:162: UserWarning: pylab import has clobbered these variables: ['psd']\n",
      "`%matplotlib` prevents importing * from pylab and numpy\n",
      "  warn(\"pylab import has clobbered these variables: %s\"  % clobbered +\n"
     ]
    }
   ],
   "source": [
    "from qick import *\n",
    "%pylab inline\n",
    "\n",
    "import time\n",
    "\n",
    "from scipy.signal import welch\n",
    "from numpy.fft import fftshift\n",
    "\n",
    "from scipy.signal import spectrogram\n",
    "from matplotlib import colors"
   ]
  },
  {
   "cell_type": "code",
   "execution_count": 551,
   "metadata": {},
   "outputs": [],
   "source": [
    "# Pyro to communicate with board\n",
    "import Pyro4\n",
    "from qick import QickConfig\n",
    "Pyro4.config.SERIALIZER = \"pickle\"\n",
    "Pyro4.config.PICKLE_PROTOCOL_VERSION=4\n",
    "\n",
    "# Static IP proxy\n",
    "ns_host = \"192.168.2.99\"\n",
    "ns_port = 8888\n",
    "proxy_name = \"myqick\"\n",
    "\n",
    "# QICK object\n",
    "ns = Pyro4.locateNS(host=ns_host, port=ns_port)\n",
    "soc = Pyro4.Proxy(ns.lookup(proxy_name))\n",
    "soccfg = QickConfig(soc.get_cfg())\n",
    "# print(soccfg)"
   ]
  },
  {
   "cell_type": "code",
   "execution_count": 552,
   "metadata": {},
   "outputs": [],
   "source": [
    "GEN_CH_A = 1\n",
    "GEN_CH_B = 0\n",
    "RO_CH_C = 1\n",
    "RO_CH_D = 0\n",
    "FREQ = 200 # MHz"
   ]
  },
  {
   "cell_type": "code",
   "execution_count": 553,
   "metadata": {},
   "outputs": [],
   "source": [
    "# Class containg init method to process pulse sequences for each channel\n",
    "class DigitalOutput():\n",
    "    sequence = []\n",
    "\n",
    "    def __init__(self, pmod_ch, seq):\n",
    "        self.pmod_ch = pmod_ch\n",
    "        self.seq = seq\n",
    "\n",
    "        # Remove pre-exisiting sequence if it already exists for channel\n",
    "        for l in self.sequence[:]:\n",
    "            if l[-1] == self.pmod_ch:\n",
    "                self.sequence.remove(l)\n",
    "        \n",
    "        if self.seq != None:\n",
    "            # Convert list of tuples into list of lists\n",
    "            self.seq = [list(t) for t in self.seq]\n",
    "\n",
    "            # Convert pulse widths into elapsed time and append channel to list\n",
    "            time = 0\n",
    "            for l in self.seq:\n",
    "                l[0], time = time, time + l[0]\n",
    "                l.append(pmod_ch)\n",
    "            \n",
    "            # End final pulse\n",
    "            self.seq.append([time, 0, pmod_ch])\n",
    "\n",
    "            # Add channel sequence to master sequence and sort in order of time\n",
    "            [self.sequence.append(l) for l in self.seq]\n",
    "            self.sequence.sort(key=lambda x: x[0])\n",
    "        \n",
    "    def configure(self):\n",
    "        out = 0\n",
    "        # trig_output = self.soccfg['tprocs'][0]['trig_output']\n",
    "        for l in DigitalOutput.sequence: \n",
    "            time = int(self.us2cycles(l[0]) / 1e3)\n",
    "            state = l[1]\n",
    "            bit_position = l[2]\n",
    "\n",
    "            if state == 1:\n",
    "                out |= (1 << bit_position)\n",
    "            elif state == 0:\n",
    "                out &= ~(1 << bit_position)\n",
    "\n",
    "            rp = 0 # tproc register page\n",
    "            r_out = 31 # tproc register\n",
    "            print(bin(out), time)\n",
    "            self.regwi(rp, r_out, out)\n",
    "            self.seti(soccfg['tprocs'][0]['output_pins'][0][1], rp, r_out, time)"
   ]
  },
  {
   "cell_type": "code",
   "execution_count": 588,
   "metadata": {},
   "outputs": [],
   "source": [
    "class LoopbackProgram(AveragerProgram):\n",
    "    def initialize(self):\n",
    "        cfg=self.cfg   \n",
    "        res_ch = cfg[\"res_ch\"]\n",
    "        style = self.cfg[\"pulse_style\"]\n",
    "\n",
    "        self.declare_gen(ch=GEN_CH_A, nqz=1)\n",
    "        self.declare_gen(ch=GEN_CH_B, nqz=1)\n",
    "        \n",
    "        # configure the readout lengths and downconversion frequencies (ensuring it is an available DAC frequency)\n",
    "        for ch in cfg[\"ro_chs\"]:\n",
    "            # self.declare_readout(ch=ch, length=self.cfg[\"readout_length\"],\n",
    "            #                      freq=0, gen_ch=cfg[\"res_ch\"], sel=\"input\")\n",
    "            self.declare_readout(ch=ch, length=self.cfg[\"readout_length\"], freq=0, sel=\"input\")\n",
    "\n",
    "        # convert frequency to DAC frequency (ensuring it is an available ADC frequency)\n",
    "        freq = self.freq2reg(cfg[\"pulse_freq\"],gen_ch=res_ch, ro_ch=cfg[\"ro_chs\"][0])\n",
    "        phase = self.deg2reg(cfg[\"res_phase\"], gen_ch=res_ch)\n",
    "        gain = cfg[\"pulse_gain\"]\n",
    "        self.default_pulse_registers(ch=GEN_CH_A, freq=freq, phase=phase, gain=gain)\n",
    "        self.default_pulse_registers(ch=GEN_CH_B, freq=freq, phase=phase, gain=gain)\n",
    "\n",
    "        self.synci(100)  # give processor some time to configure pulses\n",
    "        self.trigger(mr=True, adc_trig_offset=self.cfg[\"adc_trig_offset\"])\n",
    "        self.synci(100)  # give the buffers a little time\n",
    "        \n",
    "    def body(self):\n",
    "        self.regwi(0, 14, 9) # 9 reps\n",
    "\n",
    "        self.label(\"LOOP_I\")\n",
    "        \n",
    "        self.set_pulse_registers(ch=GEN_CH_A, style=\"const\", length=self.us2cycles(27, gen_ch=GEN_CH_A))\n",
    "        self.set_pulse_registers(ch=GEN_CH_B, style=\"const\", length=self.us2cycles(27, gen_ch=GEN_CH_B))\n",
    "\n",
    "        self.trigger(adcs=self.ro_chs,\n",
    "                     adc_trig_offset=self.cfg[\"adc_trig_offset\"])\n",
    "        self.pulse(ch=GEN_CH_B)\n",
    "        self.pulse(ch=GEN_CH_A)\n",
    "\n",
    "        self.set_pulse_registers(ch=GEN_CH_A, style=\"const\", length=self.us2cycles(3, gen_ch=GEN_CH_A))\n",
    "        # self.trigger(adcs=self.ro_chs,\n",
    "        #              adc_trig_offset=self.cfg[\"adc_trig_offset\"], t=self.us2cycles(30, gen_ch=GEN_CH_A))\n",
    "        for i in range(5):\n",
    "            self.pulse(ch=GEN_CH_A, t=self.us2cycles(30 + i*5))\n",
    "\n",
    "        seq_0 = DigitalOutput(0, [(100, 0), (27000, 1), (100.0, 0), (3000.0, 0), (450.0, 0), (100.0, 1), (450.0, 0), (3000.0, 0), (450.0, 0), (100.0, 1), (450.0, 0), (3000.0, 0), (450.0, 0), (100.0, 1), (450.0, 0), (3000.0, 0), (450.0, 0), (100.0, 1), (450.0, 0), (3000.0, 0), (450.0, 0), (100.0, 1), (450.0, 0), (3000.0, 0), (450.0, 0), (100.0, 1), (450.0, 0), (3000.0, 0), (100.0, 0)])\n",
    "        seq_1 = DigitalOutput(1, [(100.0, 0), (27000, 1), (100.0, 0), (3000.0, 1), (1000.0, 0), (3000.0, 1), (1000.0, 0), (3000.0, 1), (1000.0, 0), (3000.0, 1), (1000.0, 0), (3000.0, 1), (1000.0, 0), (3000.0, 1), (1000.0, 0), (3000.0, 1), (100.0, 0)])\n",
    "\n",
    "        DigitalOutput.configure(self)\n",
    "\n",
    "        self.wait_all()\n",
    "        self.sync_all(self.us2cycles(self.cfg[\"relax_delay\"]))\n",
    "        self.loopnz(0, 14, \"LOOP_I\")"
   ]
  },
  {
   "cell_type": "code",
   "execution_count": 598,
   "metadata": {},
   "outputs": [
    {
     "name": "stdout",
     "output_type": "stream",
     "text": [
      "0b0 0\n",
      "0b0 0\n",
      "0b1 40\n",
      "0b11 40\n",
      "0b10 11100\n",
      "0b0 11100\n",
      "0b0 11141\n",
      "0b10 11141\n",
      "0b10 12369\n",
      "0b0 12369\n",
      "0b1 12554\n",
      "0b0 12595\n",
      "0b0 12779\n",
      "0b10 12779\n",
      "0b10 14008\n",
      "0b0 14008\n",
      "0b1 14192\n",
      "0b0 14233\n",
      "0b0 14417\n",
      "0b10 14417\n",
      "0b10 15646\n",
      "0b0 15646\n",
      "0b1 15831\n",
      "0b0 15872\n",
      "0b0 16056\n",
      "0b10 16056\n",
      "0b10 17285\n",
      "0b0 17285\n",
      "0b1 17469\n",
      "0b0 17510\n",
      "0b0 17694\n",
      "0b10 17694\n",
      "0b10 18923\n",
      "0b0 18923\n",
      "0b1 19107\n",
      "0b0 19148\n",
      "0b0 19333\n",
      "0b10 19333\n",
      "0b10 20561\n",
      "0b0 20561\n",
      "0b1 20746\n",
      "0b0 20787\n",
      "0b0 20971\n",
      "0b10 20971\n",
      "0b10 22200\n",
      "0b0 22200\n",
      "0b0 22241\n",
      "0b0 22241\n"
     ]
    },
    {
     "data": {
      "application/vnd.jupyter.widget-view+json": {
       "model_id": "71377e610262437eb45654dedc40c4ed",
       "version_major": 2,
       "version_minor": 0
      },
      "text/plain": [
       "  0%|          | 0/1 [00:00<?, ?it/s]"
      ]
     },
     "metadata": {},
     "output_type": "display_data"
    },
    {
     "name": "stdout",
     "output_type": "stream",
     "text": [
      "0b0 0\n",
      "0b0 0\n",
      "0b1 40\n",
      "0b11 40\n",
      "0b10 11100\n",
      "0b0 11100\n",
      "0b0 11141\n",
      "0b10 11141\n",
      "0b10 12369\n",
      "0b0 12369\n",
      "0b1 12554\n",
      "0b0 12595\n",
      "0b0 12779\n",
      "0b10 12779\n",
      "0b10 14008\n",
      "0b0 14008\n",
      "0b1 14192\n",
      "0b0 14233\n",
      "0b0 14417\n",
      "0b10 14417\n",
      "0b10 15646\n",
      "0b0 15646\n",
      "0b1 15831\n",
      "0b0 15872\n",
      "0b0 16056\n",
      "0b10 16056\n",
      "0b10 17285\n",
      "0b0 17285\n",
      "0b1 17469\n",
      "0b0 17510\n",
      "0b0 17694\n",
      "0b10 17694\n",
      "0b10 18923\n",
      "0b0 18923\n",
      "0b1 19107\n",
      "0b0 19148\n",
      "0b0 19333\n",
      "0b10 19333\n",
      "0b10 20561\n",
      "0b0 20561\n",
      "0b1 20746\n",
      "0b0 20787\n",
      "0b0 20971\n",
      "0b10 20971\n",
      "0b10 22200\n",
      "0b0 22200\n",
      "0b0 22241\n",
      "0b0 22241\n"
     ]
    },
    {
     "data": {
      "application/vnd.jupyter.widget-view+json": {
       "model_id": "3a2e43436cfa454697b9ee6c6c8af2cd",
       "version_major": 2,
       "version_minor": 0
      },
      "text/plain": [
       "  0%|          | 0/1 [00:00<?, ?it/s]"
      ]
     },
     "metadata": {},
     "output_type": "display_data"
    },
    {
     "name": "stdout",
     "output_type": "stream",
     "text": [
      "0b0 0\n",
      "0b0 0\n",
      "0b1 40\n",
      "0b11 40\n",
      "0b10 11100\n",
      "0b0 11100\n",
      "0b0 11141\n",
      "0b10 11141\n",
      "0b10 12369\n",
      "0b0 12369\n",
      "0b1 12554\n",
      "0b0 12595\n",
      "0b0 12779\n",
      "0b10 12779\n",
      "0b10 14008\n",
      "0b0 14008\n",
      "0b1 14192\n",
      "0b0 14233\n",
      "0b0 14417\n",
      "0b10 14417\n",
      "0b10 15646\n",
      "0b0 15646\n",
      "0b1 15831\n",
      "0b0 15872\n",
      "0b0 16056\n",
      "0b10 16056\n",
      "0b10 17285\n",
      "0b0 17285\n",
      "0b1 17469\n",
      "0b0 17510\n",
      "0b0 17694\n",
      "0b10 17694\n",
      "0b10 18923\n",
      "0b0 18923\n",
      "0b1 19107\n",
      "0b0 19148\n",
      "0b0 19333\n",
      "0b10 19333\n",
      "0b10 20561\n",
      "0b0 20561\n",
      "0b1 20746\n",
      "0b0 20787\n",
      "0b0 20971\n",
      "0b10 20971\n",
      "0b10 22200\n",
      "0b0 22200\n",
      "0b0 22241\n",
      "0b0 22241\n"
     ]
    },
    {
     "data": {
      "application/vnd.jupyter.widget-view+json": {
       "model_id": "a5720416676145a19a4bda92276b0885",
       "version_major": 2,
       "version_minor": 0
      },
      "text/plain": [
       "  0%|          | 0/1 [00:00<?, ?it/s]"
      ]
     },
     "metadata": {},
     "output_type": "display_data"
    },
    {
     "name": "stdout",
     "output_type": "stream",
     "text": [
      "0b0 0\n",
      "0b0 0\n",
      "0b1 40\n",
      "0b11 40\n",
      "0b10 11100\n",
      "0b0 11100\n",
      "0b0 11141\n",
      "0b10 11141\n",
      "0b10 12369\n",
      "0b0 12369\n",
      "0b1 12554\n",
      "0b0 12595\n",
      "0b0 12779\n",
      "0b10 12779\n",
      "0b10 14008\n",
      "0b0 14008\n",
      "0b1 14192\n",
      "0b0 14233\n",
      "0b0 14417\n",
      "0b10 14417\n",
      "0b10 15646\n",
      "0b0 15646\n",
      "0b1 15831\n",
      "0b0 15872\n",
      "0b0 16056\n",
      "0b10 16056\n",
      "0b10 17285\n",
      "0b0 17285\n",
      "0b1 17469\n",
      "0b0 17510\n",
      "0b0 17694\n",
      "0b10 17694\n",
      "0b10 18923\n",
      "0b0 18923\n",
      "0b1 19107\n",
      "0b0 19148\n",
      "0b0 19333\n",
      "0b10 19333\n",
      "0b10 20561\n",
      "0b0 20561\n",
      "0b1 20746\n",
      "0b0 20787\n",
      "0b0 20971\n",
      "0b10 20971\n",
      "0b10 22200\n",
      "0b0 22200\n",
      "0b0 22241\n",
      "0b0 22241\n"
     ]
    },
    {
     "data": {
      "application/vnd.jupyter.widget-view+json": {
       "model_id": "67f8e02aec084145a21298d6a0d7faeb",
       "version_major": 2,
       "version_minor": 0
      },
      "text/plain": [
       "  0%|          | 0/1 [00:00<?, ?it/s]"
      ]
     },
     "metadata": {},
     "output_type": "display_data"
    },
    {
     "name": "stdout",
     "output_type": "stream",
     "text": [
      "0b0 0\n",
      "0b0 0\n",
      "0b1 40\n",
      "0b11 40\n",
      "0b10 11100\n",
      "0b0 11100\n",
      "0b0 11141\n",
      "0b10 11141\n",
      "0b10 12369\n",
      "0b0 12369\n",
      "0b1 12554\n",
      "0b0 12595\n",
      "0b0 12779\n",
      "0b10 12779\n",
      "0b10 14008\n",
      "0b0 14008\n",
      "0b1 14192\n",
      "0b0 14233\n",
      "0b0 14417\n",
      "0b10 14417\n",
      "0b10 15646\n",
      "0b0 15646\n",
      "0b1 15831\n",
      "0b0 15872\n",
      "0b0 16056\n",
      "0b10 16056\n",
      "0b10 17285\n",
      "0b0 17285\n",
      "0b1 17469\n",
      "0b0 17510\n",
      "0b0 17694\n",
      "0b10 17694\n",
      "0b10 18923\n",
      "0b0 18923\n",
      "0b1 19107\n",
      "0b0 19148\n",
      "0b0 19333\n",
      "0b10 19333\n",
      "0b10 20561\n",
      "0b0 20561\n",
      "0b1 20746\n",
      "0b0 20787\n",
      "0b0 20971\n",
      "0b10 20971\n",
      "0b10 22200\n",
      "0b0 22200\n",
      "0b0 22241\n",
      "0b0 22241\n"
     ]
    },
    {
     "data": {
      "application/vnd.jupyter.widget-view+json": {
       "model_id": "31eb65201f7345098fec52251bdc08c0",
       "version_major": 2,
       "version_minor": 0
      },
      "text/plain": [
       "  0%|          | 0/1 [00:00<?, ?it/s]"
      ]
     },
     "metadata": {},
     "output_type": "display_data"
    }
   ],
   "source": [
    "config={\"res_ch\":GEN_CH_A,\n",
    "        \"ro_chs\":[RO_CH_C, RO_CH_D],\n",
    "        \"reps\":1,\n",
    "        \"relax_delay\":1.0, # [us]\n",
    "        \"res_phase\":0, # [degrees]\n",
    "        \"pulse_style\": \"const\",\n",
    "        \"length\":500, # [Clock ticks]\n",
    "        \"readout_length\":1000, # [Clock ticks]\n",
    "        \"pulse_gain\":10000, # [DAC units]\n",
    "        \"pulse_freq\": FREQ, # [MHz]\n",
    "        \"adc_trig_offset\": 0, # [Clock ticks]\n",
    "        \"soft_avgs\":1\n",
    "       }\n",
    "\n",
    "for i in range(5):\n",
    "    prog =LoopbackProgram(soccfg, config)\n",
    "    prog.config_all(soc)\n",
    "    soc.arm_mr(ch=RO_CH_D)\n",
    "    # n_transfers = 100000 # each transfer (aka burst) is 256 decimated samples\n",
    "    # soc.arm_ddr4(ch=RO_CH_C, nt=n_transfers)\n",
    "    iq_list = prog.acquire_decimated(soc, progress=True)"
   ]
  },
  {
   "cell_type": "code",
   "execution_count": 556,
   "metadata": {},
   "outputs": [],
   "source": [
    "# iq_mr = soc.get_mr()\n",
    "# # iq_ddr4 = soc.get_ddr4(6)\n",
    "# for ii, iq in enumerate(iq_list):\n",
    "#     plt.plot(iq[0][:], label=\"I value, ADC %d\"%(config['ro_chs'][ii]))\n",
    "#     # plt.plot(iq[1], label=\"Q value, ADC %d\"%(config['ro_chs'][ii]))\n",
    "#     # plt.plot(np.abs(iq[0]+1j*iq[1]), label=\"mag, ADC %d\"%(config['ro_chs'][ii]))\n",
    "# # plt.plot(iq_mr[850:950,0])\n",
    "# plt.xlabel(\"sample number [ADC ticks]\")\n",
    "# plt.legend();"
   ]
  },
  {
   "cell_type": "code",
   "execution_count": 557,
   "metadata": {},
   "outputs": [
    {
     "data": {
      "image/png": "[encoded data removed]",
      "text/plain": [
       "<Figure size 640x480 with 1 Axes>"
      ]
     },
     "metadata": {},
     "output_type": "display_data"
    }
   ],
   "source": [
    "iq_mr = soc.get_mr()\n",
    "plt.plot(iq_mr[2000:2100,0]);"
   ]
  },
  {
   "cell_type": "code",
   "execution_count": 558,
   "metadata": {},
   "outputs": [
    {
     "name": "stdout",
     "output_type": "stream",
     "text": [
      "Frequency: 198.72000000000003 MHz\n"
     ]
    },
    {
     "data": {
      "image/png": "[encoded data removed]",
      "text/plain": [
       "<Figure size 640x480 with 1 Axes>"
      ]
     },
     "metadata": {},
     "output_type": "display_data"
    }
   ],
   "source": [
    "complex_iq = iq_mr.dot([1,1j])\n",
    "fs_adc = soccfg['readouts'][RO_CH_C]['fs']\n",
    "fft_freqs, psd = welch(iq_mr[850:4000,0], fs_adc, return_onesided=True, detrend=False, nperseg=512)\n",
    "plt.semilogy(fft_freqs, psd)\n",
    "plt.xlabel(\"absolute frequency [MHz]\")\n",
    "plt.ylabel(\"power [a.u.]\");\n",
    "print(\"Frequency:\", fft_freqs[argmax(psd)], \"MHz\")"
   ]
  }
 ],
 "metadata": {
  "kernelspec": {
   "display_name": ".qick_venv",
   "language": "python",
   "name": "python3"
  },
  "language_info": {
   "codemirror_mode": {
    "name": "ipython",
    "version": 3
   },
   "file_extension": ".py",
   "mimetype": "text/x-python",
   "name": "python",
   "nbconvert_exporter": "python",
   "pygments_lexer": "ipython3",
   "version": "3.9.6"
  }
 },
 "nbformat": 4,
 "nbformat_minor": 2
}
