{
 "cells": [
  {
   "cell_type": "code",
   "execution_count": 205,
   "metadata": {},
   "outputs": [
    {
     "name": "stdout",
     "output_type": "stream",
     "text": [
      "%pylab is deprecated, use %matplotlib inline and import the required libraries.\n",
      "Populating the interactive namespace from numpy and matplotlib\n"
     ]
    }
   ],
   "source": [
    "# Import the QICK drivers and auxiliary libraries\n",
    "from qick import *\n",
    "%pylab inline"
   ]
  },
  {
   "cell_type": "code",
   "execution_count": 214,
   "metadata": {},
   "outputs": [
    {
     "name": "stdout",
     "output_type": "stream",
     "text": [
      "\n",
      "QICK configuration:\n",
      "\n",
      "\tBoard: RFSoC4x2\n",
      "\n",
      "\tSoftware version: 0.2.267\n",
      "\tFirmware timestamp: Wed Sep  6 18:49:29 2023\n",
      "\n",
      "\tGlobal clocks (MHz): tProcessor 409.600, RF reference 491.520\n",
      "\n",
      "\t2 signal generator channels:\n",
      "\t0:\taxis_signal_gen_v6 - envelope memory 65536 samples (6.667 us)\n",
      "\t\tfs=9830.400 MHz, fabric=614.400 MHz, 32-bit DDS, range=9830.400 MHz\n",
      "\t\tDAC tile 0, blk 0 is DAC_B\n",
      "\t1:\taxis_signal_gen_v6 - envelope memory 65536 samples (6.667 us)\n",
      "\t\tfs=9830.400 MHz, fabric=614.400 MHz, 32-bit DDS, range=9830.400 MHz\n",
      "\t\tDAC tile 2, blk 0 is DAC_A\n",
      "\n",
      "\t2 readout channels:\n",
      "\t0:\taxis_readout_v2 - configured by PYNQ\n",
      "\t\tfs=4423.680 MHz, decimated=552.960 MHz, 32-bit DDS, range=4423.680 MHz\n",
      "\t\tmaxlen 16384 accumulated, 1024 decimated (1.852 us)\n",
      "\t\ttriggered by output 7, pin 14, feedback to tProc input 0\n",
      "\t\tADC tile 0, blk 0 is ADC_D\n",
      "\t1:\taxis_readout_v2 - configured by PYNQ\n",
      "\t\tfs=4423.680 MHz, decimated=552.960 MHz, 32-bit DDS, range=4423.680 MHz\n",
      "\t\tmaxlen 16384 accumulated, 1024 decimated (1.852 us)\n",
      "\t\ttriggered by output 7, pin 15, feedback to tProc input 1\n",
      "\t\tADC tile 0, blk 1 is ADC_C\n",
      "\n",
      "\t8 digital output pins:\n",
      "\t0:\tPMOD0_0\n",
      "\t1:\tPMOD0_1\n",
      "\t2:\tPMOD0_2\n",
      "\t3:\tPMOD0_3\n",
      "\t4:\tPMOD0_4\n",
      "\t5:\tPMOD0_5\n",
      "\t6:\tPMOD0_6\n",
      "\t7:\tPMOD0_7\n",
      "\n",
      "\ttProc axis_tproc64x32_x8 (\"v1\") rev 4: program memory 1024 words, data memory 1024 words\n",
      "\t\texternal start pin: PMOD1_0\n",
      "\n",
      "\tDDR4 memory buffer: 1073741824 samples (1.942 sec), 256 samples/transfer\n",
      "\t\twired to readouts [0, 1]\n",
      "\n",
      "\tMR buffer: 8192 samples (1.852 us), wired to readouts [0, 1]\n"
     ]
    }
   ],
   "source": [
    "import Pyro4\n",
    "from qick import QickConfig\n",
    "Pyro4.config.SERIALIZER = \"pickle\"\n",
    "Pyro4.config.PICKLE_PROTOCOL_VERSION=4\n",
    "\n",
    "ns_host = \"192.168.2.99\"\n",
    "ns_port = 8888\n",
    "proxy_name = \"myqick\"\n",
    "\n",
    "ns = Pyro4.locateNS(host=ns_host, port=ns_port)\n",
    "soc = Pyro4.Proxy(ns.lookup(proxy_name))\n",
    "soccfg = QickConfig(soc.get_cfg())\n",
    "print(soccfg)"
   ]
  },
  {
   "cell_type": "code",
   "execution_count": 208,
   "metadata": {},
   "outputs": [],
   "source": [
    "# from qick.drivers.generator import AbsArbSignalGen"
   ]
  },
  {
   "cell_type": "code",
   "execution_count": 209,
   "metadata": {},
   "outputs": [],
   "source": [
    "class DigitalOutput:\n",
    "    sequence = []\n",
    "\n",
    "    def __init__(self, pmod_ch, seq):\n",
    "        self.pmod_ch = pmod_ch\n",
    "        self.seq = seq\n",
    "\n",
    "        for l in self.sequence[:]:\n",
    "            if l[-1] == self.pmod_ch:\n",
    "                self.sequence.remove(l)\n",
    "        \n",
    "        if self.seq != None:\n",
    "            # Convert list of tuples into list of lists\n",
    "            self.seq = [list(t) for t in self.seq]\n",
    "\n",
    "            # TODO - Convert pico seconds into clock cycles\n",
    "\n",
    "            # Convert pulse widths into elapsed time and append channel to list\n",
    "            time = 0\n",
    "            for l in self.seq:\n",
    "                l[0], time = time, time + l[0]\n",
    "                l.append(pmod_ch)\n",
    "            \n",
    "            # End final pulse\n",
    "            self.seq.append([time, 0, pmod_ch])\n",
    "\n",
    "            # Add channel sequence to master sequence and sort in order of time\n",
    "            [self.sequence.append(l) for l in self.seq]\n",
    "            self.sequence.sort(key=lambda x: x[0])"
   ]
  },
  {
   "cell_type": "code",
   "execution_count": 210,
   "metadata": {},
   "outputs": [],
   "source": [
    "class LoopbackProgram(AveragerProgram):\n",
    "    def initialize(self):\n",
    "        cfg=self.cfg   \n",
    "        res_ch = cfg[\"res_ch\"]\n",
    "\n",
    "        # set the nyquist zone\n",
    "        self.declare_gen(ch=cfg[\"res_ch\"], nqz=1)\n",
    "        \n",
    "        # configure the readout lengths and downconversion frequencies (ensuring it is an available DAC frequency)\n",
    "        for ch in cfg[\"ro_chs\"]:\n",
    "            self.declare_readout(ch=ch, length=self.cfg[\"readout_length\"],\n",
    "                                 freq=self.cfg[\"pulse_freq\"], gen_ch=cfg[\"res_ch\"])\n",
    "\n",
    "        # convert frequency to DAC frequency (ensuring it is an available ADC frequency)\n",
    "        freq = self.freq2reg(cfg[\"pulse_freq\"],gen_ch=res_ch, ro_ch=cfg[\"ro_chs\"][0])\n",
    "        phase = self.deg2reg(cfg[\"res_phase\"], gen_ch=res_ch)\n",
    "        gain = cfg[\"pulse_gain\"]\n",
    "        self.default_pulse_registers(ch=res_ch, freq=freq, phase=phase, gain=gain)\n",
    "\n",
    "        style=self.cfg[\"pulse_style\"]\n",
    "\n",
    "        if style in [\"flat_top\",\"arb\"]:\n",
    "            sigma = cfg[\"sigma\"]\n",
    "            self.add_gauss(ch=res_ch, name=\"measure\", sigma=sigma, length=sigma*5)\n",
    "            \n",
    "        if style == \"const\":\n",
    "            self.set_pulse_registers(ch=res_ch, style=style, length=cfg[\"length\"])\n",
    "        elif style == \"flat_top\":\n",
    "            # The first half of the waveform ramps up the pulse, the second half ramps down the pulse\n",
    "            self.set_pulse_registers(ch=res_ch, style=style, waveform=\"measure\", length=cfg[\"length\"])\n",
    "        elif style == \"arb\":\n",
    "            self.set_pulse_registers(ch=res_ch, style=style, waveform=\"measure\")\n",
    "        \n",
    "        self.synci(200)  # give processor some time to configure pulses\n",
    "    \n",
    "    def body(self):\n",
    "        # fire the pulse\n",
    "        # trigger all declared ADCs\n",
    "        # pulse PMOD0_0 for a scope trigger\n",
    "        # pause the tProc until readout is done\n",
    "        # increment the time counter to give some time before the next measurement\n",
    "        # (the syncdelay also lets the tProc get back ahead of the clock)\n",
    "        # self.measure(pulse_ch=self.cfg[\"res_ch\"], \n",
    "        #              adcs=self.ro_chs,\n",
    "        #              adc_trig_offset=self.cfg[\"adc_trig_offset\"],\n",
    "        #              wait=False,)\n",
    "\n",
    "        # equivalent to the following:\n",
    "        self.trigger(adcs=self.ro_chs,\n",
    "                     adc_trig_offset=self.cfg[\"adc_trig_offset\"])\n",
    "        self.pulse(ch=self.cfg[\"res_ch\"])\n",
    "\n",
    "        # AbsArbSignalGen.configure(1, None)\n",
    "\n",
    "        out = 0\n",
    "        # trig_output = self.soccfg['tprocs'][0]['trig_output']\n",
    "\n",
    "        for l in DigitalOutput.sequence: \n",
    "            time = int(self.us2cycles(l[0]) / 1e6)\n",
    "            state = l[1]\n",
    "            bit_position = l[2]\n",
    "\n",
    "            if state == 1:\n",
    "                out |= (1 << bit_position)\n",
    "            elif state == 0:\n",
    "                out &= ~(1 << bit_position)\n",
    "\n",
    "            print(bin(out), time)\n",
    "            self.regwi(0, 31, out)\n",
    "            self.seti(7, 0, 31, time) # TODO - arguments are hacky\n",
    "\n",
    "        self.wait_all()\n",
    "        self.sync_all(self.us2cycles(self.cfg[\"relax_delay\"]))"
   ]
  },
  {
   "cell_type": "code",
   "execution_count": 211,
   "metadata": {},
   "outputs": [],
   "source": [
    "config={\"res_ch\":1, # --Fixed\n",
    "        \"ro_chs\":[1], # --Fixed\n",
    "        \"reps\":1, # TODO - Understand behaviour\n",
    "        \"relax_delay\":1.0, # --us\n",
    "        \"res_phase\":0, # --degrees\n",
    "        \"pulse_style\": \"const\", # --Fixed\n",
    "        \n",
    "        \"length\":20, # [Clock ticks]\n",
    "        # Try varying length from 10-100 clock ticks\n",
    "        \n",
    "        \"readout_length\":200, # [Clock ticks]\n",
    "        # Try varying readout_length from 50-1000 clock ticks\n",
    "\n",
    "        \"pulse_gain\":3000, # [DAC units] Min:500, Max: 30000, Gain of ADC output\n",
    "        \"pulse_freq\": 0, # [MHz] Frequency of ADC output oscillations\n",
    "        \"adc_trig_offset\": 0, # [Clock ticks], ADC time offset\n",
    "        \"soft_avgs\":100 # Number of repeats program executes and averages\n",
    "\n",
    "       }"
   ]
  },
  {
   "cell_type": "code",
   "execution_count": 212,
   "metadata": {},
   "outputs": [
    {
     "name": "stdout",
     "output_type": "stream",
     "text": [
      "[[0, 1, 0], [10000.0, 0, 0], [160000.0, 1, 0], [410000.0, 0, 0], [510000.0, 1, 0], [660000.0, 0, 0]]\n"
     ]
    }
   ],
   "source": [
    "seq_0 = DigitalOutput(0, [(100e3, 1), (150e3, 0), (250e3, 1), (100e3, 0), (150e3, 1)])\n",
    "# seq_1 = DigitalOutput(1, [(100, 0), (150, 1), (250, 0), (100, 1)])\n",
    "# seq_3 = DigitalOutput(0, None)\n",
    "print(DigitalOutput.sequence)"
   ]
  },
  {
   "cell_type": "code",
   "execution_count": 213,
   "metadata": {},
   "outputs": [
    {
     "name": "stdout",
     "output_type": "stream",
     "text": [
      "7\n",
      "0b1 0\n",
      "0b0 4\n",
      "0b1 65\n",
      "0b0 167\n",
      "0b1 208\n",
      "0b0 270\n"
     ]
    },
    {
     "ename": "RuntimeError",
     "evalue": "DMA channel not idle",
     "output_type": "error",
     "traceback": [
      "\u001b[0;31m---------------------------------------------------------------------------\u001b[0m",
      "\u001b[0;31mRuntimeError\u001b[0m                              Traceback (most recent call last)",
      "Cell \u001b[0;32mIn[213], line 2\u001b[0m\n\u001b[1;32m      1\u001b[0m prog \u001b[38;5;241m=\u001b[39m LoopbackProgram(soccfg, config)\n\u001b[0;32m----> 2\u001b[0m iq_list \u001b[38;5;241m=\u001b[39m \u001b[43mprog\u001b[49m\u001b[38;5;241;43m.\u001b[39;49m\u001b[43macquire_decimated\u001b[49m\u001b[43m(\u001b[49m\u001b[43msoc\u001b[49m\u001b[43m,\u001b[49m\u001b[43m \u001b[49m\u001b[43mprogress\u001b[49m\u001b[38;5;241;43m=\u001b[39;49m\u001b[38;5;28;43;01mFalse\u001b[39;49;00m\u001b[43m)\u001b[49m\n",
      "File \u001b[0;32m~/qick/.qick_venv/lib/python3.9/site-packages/qick/averager_program.py:162\u001b[0m, in \u001b[0;36mAveragerProgram.acquire_decimated\u001b[0;34m(self, soc, load_pulses, readouts_per_experiment, start_src, progress, remove_offset)\u001b[0m\n\u001b[1;32m    160\u001b[0m \u001b[38;5;28;01mif\u001b[39;00m readouts_per_experiment \u001b[38;5;129;01mis\u001b[39;00m \u001b[38;5;129;01mnot\u001b[39;00m \u001b[38;5;28;01mNone\u001b[39;00m:\n\u001b[1;32m    161\u001b[0m     \u001b[38;5;28mself\u001b[39m\u001b[38;5;241m.\u001b[39mset_reads_per_shot(readouts_per_experiment)\n\u001b[0;32m--> 162\u001b[0m buf \u001b[38;5;241m=\u001b[39m \u001b[38;5;28;43msuper\u001b[39;49m\u001b[43m(\u001b[49m\u001b[43m)\u001b[49m\u001b[38;5;241;43m.\u001b[39;49m\u001b[43macquire_decimated\u001b[49m\u001b[43m(\u001b[49m\u001b[43msoc\u001b[49m\u001b[43m,\u001b[49m\u001b[43m \u001b[49m\u001b[43msoft_avgs\u001b[49m\u001b[38;5;241;43m=\u001b[39;49m\u001b[38;5;28;43mself\u001b[39;49m\u001b[38;5;241;43m.\u001b[39;49m\u001b[43msoft_avgs\u001b[49m\u001b[43m,\u001b[49m\u001b[43m \u001b[49m\u001b[43mload_pulses\u001b[49m\u001b[38;5;241;43m=\u001b[39;49m\u001b[43mload_pulses\u001b[49m\u001b[43m,\u001b[49m\u001b[43m \u001b[49m\u001b[43mstart_src\u001b[49m\u001b[38;5;241;43m=\u001b[39;49m\u001b[43mstart_src\u001b[49m\u001b[43m,\u001b[49m\u001b[43m \u001b[49m\u001b[43mprogress\u001b[49m\u001b[38;5;241;43m=\u001b[39;49m\u001b[43mprogress\u001b[49m\u001b[43m,\u001b[49m\u001b[43m \u001b[49m\u001b[43mremove_offset\u001b[49m\u001b[38;5;241;43m=\u001b[39;49m\u001b[43mremove_offset\u001b[49m\u001b[43m)\u001b[49m\n\u001b[1;32m    163\u001b[0m \u001b[38;5;66;03m# move the I/Q axis from last to second-last\u001b[39;00m\n\u001b[1;32m    164\u001b[0m \u001b[38;5;28;01mreturn\u001b[39;00m np\u001b[38;5;241m.\u001b[39mmoveaxis(buf, \u001b[38;5;241m-\u001b[39m\u001b[38;5;241m1\u001b[39m, \u001b[38;5;241m-\u001b[39m\u001b[38;5;241m2\u001b[39m)\n",
      "File \u001b[0;32m~/qick/.qick_venv/lib/python3.9/site-packages/qick/qick_asm.py:1933\u001b[0m, in \u001b[0;36mAcquireMixin.acquire_decimated\u001b[0;34m(self, soc, soft_avgs, load_pulses, start_src, progress, remove_offset)\u001b[0m\n\u001b[1;32m   1930\u001b[0m         count \u001b[38;5;241m=\u001b[39m soc\u001b[38;5;241m.\u001b[39mget_tproc_counter(addr\u001b[38;5;241m=\u001b[39m\u001b[38;5;28mself\u001b[39m\u001b[38;5;241m.\u001b[39mcounter_addr)\n\u001b[1;32m   1932\u001b[0m     \u001b[38;5;28;01mfor\u001b[39;00m ii, (ch, ro) \u001b[38;5;129;01min\u001b[39;00m \u001b[38;5;28menumerate\u001b[39m(\u001b[38;5;28mself\u001b[39m\u001b[38;5;241m.\u001b[39mro_chs\u001b[38;5;241m.\u001b[39mitems()):\n\u001b[0;32m-> 1933\u001b[0m         dec_buf[ii] \u001b[38;5;241m+\u001b[39m\u001b[38;5;241m=\u001b[39m obtain(\u001b[43msoc\u001b[49m\u001b[38;5;241;43m.\u001b[39;49m\u001b[43mget_decimated\u001b[49m\u001b[43m(\u001b[49m\u001b[43mch\u001b[49m\u001b[38;5;241;43m=\u001b[39;49m\u001b[43mch\u001b[49m\u001b[43m,\u001b[49m\n\u001b[1;32m   1934\u001b[0m \u001b[43m                            \u001b[49m\u001b[43maddress\u001b[49m\u001b[38;5;241;43m=\u001b[39;49m\u001b[38;5;241;43m0\u001b[39;49m\u001b[43m,\u001b[49m\u001b[43m \u001b[49m\u001b[43mlength\u001b[49m\u001b[38;5;241;43m=\u001b[39;49m\u001b[43mro\u001b[49m\u001b[43m[\u001b[49m\u001b[38;5;124;43m'\u001b[39;49m\u001b[38;5;124;43mlength\u001b[39;49m\u001b[38;5;124;43m'\u001b[39;49m\u001b[43m]\u001b[49m\u001b[38;5;241;43m*\u001b[39;49m\u001b[43mro\u001b[49m\u001b[43m[\u001b[49m\u001b[38;5;124;43m'\u001b[39;49m\u001b[38;5;124;43mtrigs\u001b[39;49m\u001b[38;5;124;43m'\u001b[39;49m\u001b[43m]\u001b[49m\u001b[38;5;241;43m*\u001b[39;49m\u001b[43mtotal_count\u001b[49m\u001b[43m)\u001b[49m)\n\u001b[1;32m   1935\u001b[0m         \u001b[38;5;28mself\u001b[39m\u001b[38;5;241m.\u001b[39md_buf\u001b[38;5;241m.\u001b[39mappend(obtain(soc\u001b[38;5;241m.\u001b[39mget_accumulated(ch\u001b[38;5;241m=\u001b[39mch, address\u001b[38;5;241m=\u001b[39m\u001b[38;5;241m0\u001b[39m, length\u001b[38;5;241m=\u001b[39mro[\u001b[38;5;124m'\u001b[39m\u001b[38;5;124mtrigs\u001b[39m\u001b[38;5;124m'\u001b[39m]\u001b[38;5;241m*\u001b[39mtotal_count)\u001b[38;5;241m.\u001b[39mreshape((\u001b[38;5;241m*\u001b[39m\u001b[38;5;28mself\u001b[39m\u001b[38;5;241m.\u001b[39mloop_dims, ro[\u001b[38;5;124m'\u001b[39m\u001b[38;5;124mtrigs\u001b[39m\u001b[38;5;124m'\u001b[39m], \u001b[38;5;241m2\u001b[39m))))\n\u001b[1;32m   1937\u001b[0m onetrig \u001b[38;5;241m=\u001b[39m \u001b[38;5;28mall\u001b[39m([ro[\u001b[38;5;124m'\u001b[39m\u001b[38;5;124mtrigs\u001b[39m\u001b[38;5;124m'\u001b[39m]\u001b[38;5;241m==\u001b[39m\u001b[38;5;241m1\u001b[39m \u001b[38;5;28;01mfor\u001b[39;00m ro \u001b[38;5;129;01min\u001b[39;00m \u001b[38;5;28mself\u001b[39m\u001b[38;5;241m.\u001b[39mro_chs\u001b[38;5;241m.\u001b[39mvalues()])\n",
      "File \u001b[0;32m~/qick/.qick_venv/lib/python3.9/site-packages/Pyro4/core.py:185\u001b[0m, in \u001b[0;36m_RemoteMethod.__call__\u001b[0;34m(self, *args, **kwargs)\u001b[0m\n\u001b[1;32m    183\u001b[0m \u001b[38;5;28;01mfor\u001b[39;00m attempt \u001b[38;5;129;01min\u001b[39;00m \u001b[38;5;28mrange\u001b[39m(\u001b[38;5;28mself\u001b[39m\u001b[38;5;241m.\u001b[39m__max_retries \u001b[38;5;241m+\u001b[39m \u001b[38;5;241m1\u001b[39m):\n\u001b[1;32m    184\u001b[0m     \u001b[38;5;28;01mtry\u001b[39;00m:\n\u001b[0;32m--> 185\u001b[0m         \u001b[38;5;28;01mreturn\u001b[39;00m \u001b[38;5;28;43mself\u001b[39;49m\u001b[38;5;241;43m.\u001b[39;49m\u001b[43m__send\u001b[49m\u001b[43m(\u001b[49m\u001b[38;5;28;43mself\u001b[39;49m\u001b[38;5;241;43m.\u001b[39;49m\u001b[43m__name\u001b[49m\u001b[43m,\u001b[49m\u001b[43m \u001b[49m\u001b[43margs\u001b[49m\u001b[43m,\u001b[49m\u001b[43m \u001b[49m\u001b[43mkwargs\u001b[49m\u001b[43m)\u001b[49m\n\u001b[1;32m    186\u001b[0m     \u001b[38;5;28;01mexcept\u001b[39;00m (errors\u001b[38;5;241m.\u001b[39mConnectionClosedError, errors\u001b[38;5;241m.\u001b[39mTimeoutError):\n\u001b[1;32m    187\u001b[0m         \u001b[38;5;66;03m# only retry for recoverable network errors\u001b[39;00m\n\u001b[1;32m    188\u001b[0m         \u001b[38;5;28;01mif\u001b[39;00m attempt \u001b[38;5;241m>\u001b[39m\u001b[38;5;241m=\u001b[39m \u001b[38;5;28mself\u001b[39m\u001b[38;5;241m.\u001b[39m__max_retries:\n\u001b[1;32m    189\u001b[0m             \u001b[38;5;66;03m# last attempt, raise the exception\u001b[39;00m\n",
      "File \u001b[0;32m~/qick/.qick_venv/lib/python3.9/site-packages/Pyro4/core.py:476\u001b[0m, in \u001b[0;36mProxy._pyroInvoke\u001b[0;34m(self, methodname, vargs, kwargs, flags, objectId)\u001b[0m\n\u001b[1;32m    474\u001b[0m     \u001b[38;5;28;01mif\u001b[39;00m sys\u001b[38;5;241m.\u001b[39mplatform \u001b[38;5;241m==\u001b[39m \u001b[38;5;124m\"\u001b[39m\u001b[38;5;124mcli\u001b[39m\u001b[38;5;124m\"\u001b[39m:\n\u001b[1;32m    475\u001b[0m         util\u001b[38;5;241m.\u001b[39mfixIronPythonExceptionForPickle(data, \u001b[38;5;28;01mFalse\u001b[39;00m)\n\u001b[0;32m--> 476\u001b[0m     \u001b[38;5;28;01mraise\u001b[39;00m data  \u001b[38;5;66;03m# if you see this in your traceback, you should probably inspect the remote traceback as well\u001b[39;00m\n\u001b[1;32m    477\u001b[0m \u001b[38;5;28;01melse\u001b[39;00m:\n\u001b[1;32m    478\u001b[0m     \u001b[38;5;28;01mreturn\u001b[39;00m data\n",
      "\u001b[0;31mRuntimeError\u001b[0m: DMA channel not idle"
     ]
    }
   ],
   "source": [
    "prog = LoopbackProgram(soccfg, config)\n",
    "iq_list = prog.acquire_decimated(soc, progress=False)"
   ]
  }
 ],
 "metadata": {
  "kernelspec": {
   "display_name": ".qick_venv",
   "language": "python",
   "name": "python3"
  },
  "language_info": {
   "codemirror_mode": {
    "name": "ipython",
    "version": 3
   },
   "file_extension": ".py",
   "mimetype": "text/x-python",
   "name": "python",
   "nbconvert_exporter": "python",
   "pygments_lexer": "ipython3",
   "version": "3.9.6"
  }
 },
 "nbformat": 4,
 "nbformat_minor": 2
}
