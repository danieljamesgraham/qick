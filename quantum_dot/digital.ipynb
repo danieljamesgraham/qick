{
 "cells": [
  {
   "cell_type": "code",
   "execution_count": 1,
   "metadata": {},
   "outputs": [
    {
     "name": "stdout",
     "output_type": "stream",
     "text": [
      "%pylab is deprecated, use %matplotlib inline and import the required libraries.\n",
      "Populating the interactive namespace from numpy and matplotlib\n"
     ]
    }
   ],
   "source": [
    "# Import the QICK drivers and auxiliary libraries\n",
    "from qick import *\n",
    "%pylab inline"
   ]
  },
  {
   "cell_type": "code",
   "execution_count": 2,
   "metadata": {},
   "outputs": [],
   "source": [
    "import Pyro4\n",
    "from qick import QickConfig\n",
    "Pyro4.config.SERIALIZER = \"pickle\"\n",
    "Pyro4.config.PICKLE_PROTOCOL_VERSION=4\n",
    "\n",
    "ns_host = \"192.168.2.99\"\n",
    "ns_port = 8888\n",
    "proxy_name = \"myqick\"\n",
    "\n",
    "ns = Pyro4.locateNS(host=ns_host, port=ns_port)"
   ]
  },
  {
   "cell_type": "code",
   "execution_count": 3,
   "metadata": {},
   "outputs": [
    {
     "name": "stdout",
     "output_type": "stream",
     "text": [
      "\n",
      "QICK configuration:\n",
      "\n",
      "\tBoard: RFSoC4x2\n",
      "\n",
      "\tSoftware version: 0.2.267\n",
      "\tFirmware timestamp: Wed Sep  6 18:49:29 2023\n",
      "\n",
      "\tGlobal clocks (MHz): tProcessor 409.600, RF reference 491.520\n",
      "\n",
      "\t2 signal generator channels:\n",
      "\t0:\taxis_signal_gen_v6 - envelope memory 65536 samples (6.667 us)\n",
      "\t\tfs=9830.400 MHz, fabric=614.400 MHz, 32-bit DDS, range=9830.400 MHz\n",
      "\t\tDAC tile 0, blk 0 is DAC_B\n",
      "\t1:\taxis_signal_gen_v6 - envelope memory 65536 samples (6.667 us)\n",
      "\t\tfs=9830.400 MHz, fabric=614.400 MHz, 32-bit DDS, range=9830.400 MHz\n",
      "\t\tDAC tile 2, blk 0 is DAC_A\n",
      "\n",
      "\t2 readout channels:\n",
      "\t0:\taxis_readout_v2 - configured by PYNQ\n",
      "\t\tfs=4423.680 MHz, decimated=552.960 MHz, 32-bit DDS, range=4423.680 MHz\n",
      "\t\tmaxlen 16384 accumulated, 1024 decimated (1.852 us)\n",
      "\t\ttriggered by output 7, pin 14, feedback to tProc input 0\n",
      "\t\tADC tile 0, blk 0 is ADC_D\n",
      "\t1:\taxis_readout_v2 - configured by PYNQ\n",
      "\t\tfs=4423.680 MHz, decimated=552.960 MHz, 32-bit DDS, range=4423.680 MHz\n",
      "\t\tmaxlen 16384 accumulated, 1024 decimated (1.852 us)\n",
      "\t\ttriggered by output 7, pin 15, feedback to tProc input 1\n",
      "\t\tADC tile 0, blk 1 is ADC_C\n",
      "\n",
      "\t8 digital output pins:\n",
      "\t0:\tPMOD0_0\n",
      "\t1:\tPMOD0_1\n",
      "\t2:\tPMOD0_2\n",
      "\t3:\tPMOD0_3\n",
      "\t4:\tPMOD0_4\n",
      "\t5:\tPMOD0_5\n",
      "\t6:\tPMOD0_6\n",
      "\t7:\tPMOD0_7\n",
      "\n",
      "\ttProc axis_tproc64x32_x8 (\"v1\") rev 4: program memory 1024 words, data memory 1024 words\n",
      "\t\texternal start pin: PMOD1_0\n",
      "\n",
      "\tDDR4 memory buffer: 1073741824 samples (1.942 sec), 256 samples/transfer\n",
      "\t\twired to readouts [0, 1]\n",
      "\n",
      "\tMR buffer: 8192 samples (1.852 us), wired to readouts [0, 1]\n"
     ]
    }
   ],
   "source": [
    "soc = Pyro4.Proxy(ns.lookup(proxy_name))\n",
    "soccfg = QickConfig(soc.get_cfg())\n",
    "print(soccfg)"
   ]
  },
  {
   "cell_type": "code",
   "execution_count": 10,
   "metadata": {},
   "outputs": [],
   "source": [
    "class DigitalOutput:\n",
    "    sequence = []\n",
    "\n",
    "    def __init__(self, pmod_ch, seq):\n",
    "        self.pmod_ch = pmod_ch\n",
    "        self.seq = seq\n",
    "\n",
    "        for l in self.sequence[:]:\n",
    "            if l[-1] == self.pmod_ch:\n",
    "                self.sequence.remove(l)\n",
    "        \n",
    "        # Convert list of tuples into list of lists\n",
    "        self.seq = [list(t) for t in self.seq]\n",
    "\n",
    "        # TODO - Convert pico seconds into clock cycles\n",
    "\n",
    "        # Convert pulse widths into elapsed time and append channel to list\n",
    "        time = 0\n",
    "        for l in self.seq:\n",
    "            l[0], time = time, time + l[0]\n",
    "            l.append(pmod_ch)\n",
    "        \n",
    "        # End final pulse\n",
    "        self.seq.append([time, 0, pmod_ch])\n",
    "\n",
    "        # Add channel sequence to master sequence and sort in order of time\n",
    "        [self.sequence.append(l) for l in self.seq]\n",
    "        self.sequence.sort(key=lambda x: x[0])"
   ]
  },
  {
   "cell_type": "code",
   "execution_count": 5,
   "metadata": {},
   "outputs": [],
   "source": [
    "class LoopbackProgram(AveragerProgram):\n",
    "    def initialize(self):\n",
    "        cfg=self.cfg   \n",
    "        res_ch = cfg[\"res_ch\"]\n",
    "\n",
    "        # set the nyquist zone\n",
    "        self.declare_gen(ch=cfg[\"res_ch\"], nqz=1)\n",
    "        \n",
    "        # configure the readout lengths and downconversion frequencies (ensuring it is an available DAC frequency)\n",
    "        for ch in cfg[\"ro_chs\"]:\n",
    "            self.declare_readout(ch=ch, length=self.cfg[\"readout_length\"],\n",
    "                                 freq=self.cfg[\"pulse_freq\"], gen_ch=cfg[\"res_ch\"])\n",
    "\n",
    "        # convert frequency to DAC frequency (ensuring it is an available ADC frequency)\n",
    "        freq = self.freq2reg(cfg[\"pulse_freq\"],gen_ch=res_ch, ro_ch=cfg[\"ro_chs\"][0])\n",
    "        phase = self.deg2reg(cfg[\"res_phase\"], gen_ch=res_ch)\n",
    "        gain = cfg[\"pulse_gain\"]\n",
    "        self.default_pulse_registers(ch=res_ch, freq=freq, phase=phase, gain=gain)\n",
    "\n",
    "        style=self.cfg[\"pulse_style\"]\n",
    "\n",
    "        if style in [\"flat_top\",\"arb\"]:\n",
    "            sigma = cfg[\"sigma\"]\n",
    "            self.add_gauss(ch=res_ch, name=\"measure\", sigma=sigma, length=sigma*5)\n",
    "            \n",
    "        if style == \"const\":\n",
    "            self.set_pulse_registers(ch=res_ch, style=style, length=cfg[\"length\"])\n",
    "        elif style == \"flat_top\":\n",
    "            # The first half of the waveform ramps up the pulse, the second half ramps down the pulse\n",
    "            self.set_pulse_registers(ch=res_ch, style=style, waveform=\"measure\", length=cfg[\"length\"])\n",
    "        elif style == \"arb\":\n",
    "            self.set_pulse_registers(ch=res_ch, style=style, waveform=\"measure\")\n",
    "        \n",
    "        self.synci(200)  # give processor some time to configure pulses\n",
    "    \n",
    "    def body(self):\n",
    "        # fire the pulse\n",
    "        # trigger all declared ADCs\n",
    "        # pulse PMOD0_0 for a scope trigger\n",
    "        # pause the tProc until readout is done\n",
    "        # increment the time counter to give some time before the next measurement\n",
    "        # (the syncdelay also lets the tProc get back ahead of the clock)\n",
    "        # self.measure(pulse_ch=self.cfg[\"res_ch\"], \n",
    "        #              adcs=self.ro_chs,\n",
    "        #              pins=[0], \n",
    "        #              adc_trig_offset=self.cfg[\"adc_trig_offset\"],\n",
    "        #              wait=True,\n",
    "        #              syncdelay=self.us2cycles(self.cfg[\"relax_delay\"]))\n",
    "\n",
    "        \n",
    "        \n",
    "        # equivalent to the following:\n",
    "        self.trigger(adcs=self.ro_chs,\n",
    "                     adc_trig_offset=self.cfg[\"adc_trig_offset\"])\n",
    "        self.pulse(ch=self.cfg[\"res_ch\"])\n",
    "\n",
    "\n",
    "\n",
    "\n",
    "        out = 0\n",
    "        # trig_output = self.soccfg['tprocs'][0]['trig_output']\n",
    "\n",
    "        for l in DigitalOutput.sequence: \n",
    "            time = l[0]\n",
    "            state = l[1]\n",
    "            bit_position = l[2]\n",
    "\n",
    "            if state == 1:\n",
    "                out |= (1 << bit_position)\n",
    "            elif state == 0:\n",
    "                out &= ~(1 << bit_position)\n",
    "\n",
    "            print(bin(out), time)\n",
    "            self.regwi(0, 31, out)\n",
    "            self.seti(7, 0, 31, time)\n",
    "\n",
    "        self.wait_all()\n",
    "        self.sync_all(self.us2cycles(self.cfg[\"relax_delay\"]))"
   ]
  },
  {
   "cell_type": "code",
   "execution_count": 6,
   "metadata": {},
   "outputs": [],
   "source": [
    "config={\"res_ch\":1, # --Fixed\n",
    "        \"ro_chs\":[1], # --Fixed\n",
    "        \"reps\":1, # --Fixed\n",
    "        \"relax_delay\":1.0, # --us\n",
    "        \"res_phase\":0, # --degrees\n",
    "        \"pulse_style\": \"const\", # --Fixed\n",
    "        \n",
    "        \"length\":20, # [Clock ticks]\n",
    "        # Try varying length from 10-100 clock ticks\n",
    "        \n",
    "        \"readout_length\":200, # [Clock ticks]\n",
    "        # Try varying readout_length from 50-1000 clock ticks\n",
    "\n",
    "        \"pulse_gain\":3000, # [DAC units]\n",
    "        # Try varying pulse_gain from 500 to 30000 DAC units\n",
    "\n",
    "        \"pulse_freq\": 100, # [MHz]\n",
    "        # In this program the signal is up and downconverted digitally so you won't see any frequency\n",
    "        # components in the I/Q traces below. But since the signal gain depends on frequency, \n",
    "        # if you lower pulse_freq you will see an increased gain.\n",
    "\n",
    "        \"adc_trig_offset\": 0, # [Clock ticks]\n",
    "        # Try varying adc_trig_offset from 100 to 220 clock ticks\n",
    "\n",
    "        \"soft_avgs\":100\n",
    "        # Try varying soft_avgs from 1 to 200 averages\n",
    "\n",
    "       }"
   ]
  },
  {
   "cell_type": "code",
   "execution_count": 13,
   "metadata": {},
   "outputs": [
    {
     "name": "stdout",
     "output_type": "stream",
     "text": [
      "[[0, 1, 0], [0, 0, 1], [100, 0, 0], [100, 1, 1], [250, 1, 0], [250, 0, 1], [500, 1, 0], [500, 1, 1], [600, 1, 0], [600, 0, 1], [850, 0, 0]]\n"
     ]
    }
   ],
   "source": [
    "seq_0 = DigitalOutput(0, [(100, 1), (150, 0), (250, 1), (100, 1), (250, 1)])\n",
    "seq_1 = DigitalOutput(1, [(100, 0), (150, 1), (250, 0), (100, 1)])\n",
    "print(DigitalOutput.sequence)"
   ]
  },
  {
   "cell_type": "code",
   "execution_count": 16,
   "metadata": {},
   "outputs": [
    {
     "name": "stdout",
     "output_type": "stream",
     "text": [
      "7\n",
      "0b1 0\n",
      "0b1 0\n",
      "0b0 100\n",
      "0b10 100\n",
      "0b11 250\n",
      "0b1 250\n",
      "0b1 500\n",
      "0b11 500\n",
      "0b11 600\n",
      "0b1 600\n",
      "0b0 850\n"
     ]
    }
   ],
   "source": [
    "prog = LoopbackProgram(soccfg, config)\n",
    "iq_list = prog.acquire_decimated(soc, progress=False)"
   ]
  }
 ],
 "metadata": {
  "kernelspec": {
   "display_name": ".qick_venv",
   "language": "python",
   "name": "python3"
  },
  "language_info": {
   "codemirror_mode": {
    "name": "ipython",
    "version": 3
   },
   "file_extension": ".py",
   "mimetype": "text/x-python",
   "name": "python",
   "nbconvert_exporter": "python",
   "pygments_lexer": "ipython3",
   "version": "3.9.6"
  }
 },
 "nbformat": 4,
 "nbformat_minor": 2
}
